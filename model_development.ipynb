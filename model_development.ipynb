{
 "cells": [
  {
   "cell_type": "code",
   "execution_count": 1,
   "metadata": {
    "execution": {
     "iopub.execute_input": "2022-01-12T04:35:31.192199Z",
     "iopub.status.busy": "2022-01-12T04:35:31.191649Z",
     "iopub.status.idle": "2022-01-12T04:35:33.945187Z",
     "shell.execute_reply": "2022-01-12T04:35:33.944450Z",
     "shell.execute_reply.started": "2022-01-12T04:35:31.192160Z"
    },
    "executionInfo": {
     "elapsed": 8507,
     "status": "ok",
     "timestamp": 1642317588697,
     "user": {
      "displayName": "Gaurav Kumar",
      "photoUrl": "https://lh3.googleusercontent.com/a/default-user=s64",
      "userId": "04629247398058989618"
     },
     "user_tz": 0
    },
    "id": "Cnt_XHvT8ohL"
   },
   "outputs": [],
   "source": [
    "from PIL import Image  # this contain the image class and methods from PIL library\n",
    "import numpy as np # this imports the numerical and array library \n",
    "import cv2\n",
    "import matplotlib.pyplot as plt\n",
    "from skimage import measure\n",
    "import math\n",
    "import scipy\n",
    "import os\n",
    "import sklearn\n",
    "import torch\n",
    "from torch.utils.data import Dataset\n",
    "from torchvision import datasets\n",
    "from torchvision.transforms import ToTensor\n",
    "import matplotlib.pyplot as plt\n",
    "from torchvision.io import read_image\n",
    "import pandas as pd\n",
    "import torchvision.transforms as transforms\n",
    "import glob\n",
    "import shutil\n",
    "from torch.utils.data import DataLoader\n",
    "import torchvision.models as models\n",
    "import torch.nn as nn\n",
    "from torch import optim\n",
    "import torchvision"
   ]
  },
  {
   "cell_type": "markdown",
   "metadata": {
    "id": "-mgy9t3nsw4F"
   },
   "source": [
    "# Change file directory path here\n",
    "All the results will be stored in cw_data directory."
   ]
  },
  {
   "cell_type": "code",
   "execution_count": 2,
   "metadata": {
    "colab": {
     "base_uri": "https://localhost:8080/"
    },
    "executionInfo": {
     "elapsed": 16584,
     "status": "ok",
     "timestamp": 1642317608479,
     "user": {
      "displayName": "Gaurav Kumar",
      "photoUrl": "https://lh3.googleusercontent.com/a/default-user=s64",
      "userId": "04629247398058989618"
     },
     "user_tz": 0
    },
    "id": "gjSxumx280as",
    "outputId": "81f862df-6feb-4940-b83a-4ae96edf8faf"
   },
   "outputs": [
    {
     "name": "stdout",
     "output_type": "stream",
     "text": [
      "Mounted at /content/drive\n"
     ]
    }
   ],
   "source": [
    "from google.colab import drive\n",
    "drive.mount('/content/drive')\n",
    "data_dir = \"/content/drive/MyDrive/Colab Notebooks/cs413/cw_data/DATA/\"\n",
    "try:\n",
    "  results_dir = \"/content/drive/MyDrive/Colab Notebooks/cs413/cw_data/results/\"\n",
    "  os.mkdir(results_dir)\n",
    "except:\n",
    "  pass"
   ]
  },
  {
   "cell_type": "markdown",
   "metadata": {
    "id": "aFXPwxE6wTHI"
   },
   "source": [
    "# Data Preparation for model training\n",
    "(hardly takes 1-2 minutes, as most of data preparation part is done in Task-1&2)\n",
    "\n",
    "1.   utilizes all the train,val and test data created in task 1&2 \n",
    "2.   shuffles all the data and resplit with conditions based on number of images in the class(Ids)\n",
    "3. Creates a new data directory for resplitted train test and val data\n",
    "4.  Creates annotation files for the same\n",
    "5. Encodes the classes for model\n",
    "\n",
    "\n",
    "To by-pass this data preparation, you can also download the entire training file from One-drive, shared with both TA's and Dr. Abhir Bhalerao.\n",
    "\n",
    "link - https://livewarwickac.sharepoint.com/:u:/r/sites/IVAcoursework-2151556/Shared%20Documents/Training_data.zip?csf=1&web=1&e=FPsT8z\n",
    "\n",
    "Run the next three snippets, and then jump to the data loader section \n",
    "\n"
   ]
  },
  {
   "cell_type": "code",
   "execution_count": 6,
   "metadata": {
    "executionInfo": {
     "elapsed": 200,
     "status": "ok",
     "timestamp": 1642318172983,
     "user": {
      "displayName": "Gaurav Kumar",
      "photoUrl": "https://lh3.googleusercontent.com/a/default-user=s64",
      "userId": "04629247398058989618"
     },
     "user_tz": 0
    },
    "id": "FFTEE_8TtPea"
   },
   "outputs": [],
   "source": [
    "img_label = [] # extract labels of all the images in prior created test train and val folder.\n",
    "for data in ['train','val','test']:\n",
    "  try:\n",
    "    os.mkdir(f\"{results_dir}{data}_new\")\n",
    "  except: pass\n",
    "  for folder in glob.glob(f\"{results_dir}{data}/*\"):\n",
    "    label = folder.split(\"/\")[-1]\n",
    "    for img_file in glob.glob(f\"{folder}/*\"):\n",
    "        img_name = img_file.split(\"/\")[-1]\n",
    "        img_label.append([img_name,label,data])"
   ]
  },
  {
   "cell_type": "code",
   "execution_count": 7,
   "metadata": {
    "colab": {
     "base_uri": "https://localhost:8080/"
    },
    "executionInfo": {
     "elapsed": 4,
     "status": "ok",
     "timestamp": 1642318173973,
     "user": {
      "displayName": "Gaurav Kumar",
      "photoUrl": "https://lh3.googleusercontent.com/a/default-user=s64",
      "userId": "04629247398058989618"
     },
     "user_tz": 0
    },
    "id": "Yiuw6d_VtPbE",
    "outputId": "73433014-5626-4d10-fb63-63c903a026e5"
   },
   "outputs": [
    {
     "data": {
      "text/plain": [
       "104"
      ]
     },
     "execution_count": 7,
     "metadata": {},
     "output_type": "execute_result"
    }
   ],
   "source": [
    "annot_df = pd.DataFrame(img_label,columns=['img','label','data']) # dataframe with all the cards according to prior split\n",
    "annot_df = annot_df[(annot_df.label!='000')] # exclude the unknown cards\n",
    "classes = annot_df.label.unique()\n",
    "len(classes)"
   ]
  },
  {
   "cell_type": "code",
   "execution_count": 8,
   "metadata": {
    "colab": {
     "base_uri": "https://localhost:8080/",
     "height": 206
    },
    "executionInfo": {
     "elapsed": 232,
     "status": "ok",
     "timestamp": 1642318176120,
     "user": {
      "displayName": "Gaurav Kumar",
      "photoUrl": "https://lh3.googleusercontent.com/a/default-user=s64",
      "userId": "04629247398058989618"
     },
     "user_tz": 0
    },
    "id": "Lb1edq0rvfoM",
    "outputId": "9fca4842-8184-4093-a5d0-1d4eed526311"
   },
   "outputs": [
    {
     "data": {
      "text/html": [
       "\n",
       "  <div id=\"df-8fa0b67e-8205-4835-bd92-c303934034b9\">\n",
       "    <div class=\"colab-df-container\">\n",
       "      <div>\n",
       "<style scoped>\n",
       "    .dataframe tbody tr th:only-of-type {\n",
       "        vertical-align: middle;\n",
       "    }\n",
       "\n",
       "    .dataframe tbody tr th {\n",
       "        vertical-align: top;\n",
       "    }\n",
       "\n",
       "    .dataframe thead th {\n",
       "        text-align: right;\n",
       "    }\n",
       "</style>\n",
       "<table border=\"1\" class=\"dataframe\">\n",
       "  <thead>\n",
       "    <tr style=\"text-align: right;\">\n",
       "      <th></th>\n",
       "      <th>img</th>\n",
       "      <th>label</th>\n",
       "      <th>data</th>\n",
       "      <th>new_label</th>\n",
       "    </tr>\n",
       "  </thead>\n",
       "  <tbody>\n",
       "    <tr>\n",
       "      <th>0</th>\n",
       "      <td>img_12_5.jpg</td>\n",
       "      <td>120</td>\n",
       "      <td>train</td>\n",
       "      <td>0</td>\n",
       "    </tr>\n",
       "    <tr>\n",
       "      <th>1</th>\n",
       "      <td>img_2_6.jpg</td>\n",
       "      <td>031</td>\n",
       "      <td>train</td>\n",
       "      <td>1</td>\n",
       "    </tr>\n",
       "    <tr>\n",
       "      <th>2</th>\n",
       "      <td>img_6_1.jpg</td>\n",
       "      <td>031</td>\n",
       "      <td>train</td>\n",
       "      <td>1</td>\n",
       "    </tr>\n",
       "    <tr>\n",
       "      <th>3</th>\n",
       "      <td>img_9_1.jpg</td>\n",
       "      <td>139</td>\n",
       "      <td>train</td>\n",
       "      <td>2</td>\n",
       "    </tr>\n",
       "    <tr>\n",
       "      <th>4</th>\n",
       "      <td>img_12_7.jpg</td>\n",
       "      <td>139</td>\n",
       "      <td>train</td>\n",
       "      <td>2</td>\n",
       "    </tr>\n",
       "  </tbody>\n",
       "</table>\n",
       "</div>\n",
       "      <button class=\"colab-df-convert\" onclick=\"convertToInteractive('df-8fa0b67e-8205-4835-bd92-c303934034b9')\"\n",
       "              title=\"Convert this dataframe to an interactive table.\"\n",
       "              style=\"display:none;\">\n",
       "        \n",
       "  <svg xmlns=\"http://www.w3.org/2000/svg\" height=\"24px\"viewBox=\"0 0 24 24\"\n",
       "       width=\"24px\">\n",
       "    <path d=\"M0 0h24v24H0V0z\" fill=\"none\"/>\n",
       "    <path d=\"M18.56 5.44l.94 2.06.94-2.06 2.06-.94-2.06-.94-.94-2.06-.94 2.06-2.06.94zm-11 1L8.5 8.5l.94-2.06 2.06-.94-2.06-.94L8.5 2.5l-.94 2.06-2.06.94zm10 10l.94 2.06.94-2.06 2.06-.94-2.06-.94-.94-2.06-.94 2.06-2.06.94z\"/><path d=\"M17.41 7.96l-1.37-1.37c-.4-.4-.92-.59-1.43-.59-.52 0-1.04.2-1.43.59L10.3 9.45l-7.72 7.72c-.78.78-.78 2.05 0 2.83L4 21.41c.39.39.9.59 1.41.59.51 0 1.02-.2 1.41-.59l7.78-7.78 2.81-2.81c.8-.78.8-2.07 0-2.86zM5.41 20L4 18.59l7.72-7.72 1.47 1.35L5.41 20z\"/>\n",
       "  </svg>\n",
       "      </button>\n",
       "      \n",
       "  <style>\n",
       "    .colab-df-container {\n",
       "      display:flex;\n",
       "      flex-wrap:wrap;\n",
       "      gap: 12px;\n",
       "    }\n",
       "\n",
       "    .colab-df-convert {\n",
       "      background-color: #E8F0FE;\n",
       "      border: none;\n",
       "      border-radius: 50%;\n",
       "      cursor: pointer;\n",
       "      display: none;\n",
       "      fill: #1967D2;\n",
       "      height: 32px;\n",
       "      padding: 0 0 0 0;\n",
       "      width: 32px;\n",
       "    }\n",
       "\n",
       "    .colab-df-convert:hover {\n",
       "      background-color: #E2EBFA;\n",
       "      box-shadow: 0px 1px 2px rgba(60, 64, 67, 0.3), 0px 1px 3px 1px rgba(60, 64, 67, 0.15);\n",
       "      fill: #174EA6;\n",
       "    }\n",
       "\n",
       "    [theme=dark] .colab-df-convert {\n",
       "      background-color: #3B4455;\n",
       "      fill: #D2E3FC;\n",
       "    }\n",
       "\n",
       "    [theme=dark] .colab-df-convert:hover {\n",
       "      background-color: #434B5C;\n",
       "      box-shadow: 0px 1px 3px 1px rgba(0, 0, 0, 0.15);\n",
       "      filter: drop-shadow(0px 1px 2px rgba(0, 0, 0, 0.3));\n",
       "      fill: #FFFFFF;\n",
       "    }\n",
       "  </style>\n",
       "\n",
       "      <script>\n",
       "        const buttonEl =\n",
       "          document.querySelector('#df-8fa0b67e-8205-4835-bd92-c303934034b9 button.colab-df-convert');\n",
       "        buttonEl.style.display =\n",
       "          google.colab.kernel.accessAllowed ? 'block' : 'none';\n",
       "\n",
       "        async function convertToInteractive(key) {\n",
       "          const element = document.querySelector('#df-8fa0b67e-8205-4835-bd92-c303934034b9');\n",
       "          const dataTable =\n",
       "            await google.colab.kernel.invokeFunction('convertToInteractive',\n",
       "                                                     [key], {});\n",
       "          if (!dataTable) return;\n",
       "\n",
       "          const docLinkHtml = 'Like what you see? Visit the ' +\n",
       "            '<a target=\"_blank\" href=https://colab.research.google.com/notebooks/data_table.ipynb>data table notebook</a>'\n",
       "            + ' to learn more about interactive tables.';\n",
       "          element.innerHTML = '';\n",
       "          dataTable['output_type'] = 'display_data';\n",
       "          await google.colab.output.renderOutput(dataTable, element);\n",
       "          const docLink = document.createElement('div');\n",
       "          docLink.innerHTML = docLinkHtml;\n",
       "          element.appendChild(docLink);\n",
       "        }\n",
       "      </script>\n",
       "    </div>\n",
       "  </div>\n",
       "  "
      ],
      "text/plain": [
       "            img label   data  new_label\n",
       "0  img_12_5.jpg   120  train          0\n",
       "1   img_2_6.jpg   031  train          1\n",
       "2   img_6_1.jpg   031  train          1\n",
       "3   img_9_1.jpg   139  train          2\n",
       "4  img_12_7.jpg   139  train          2"
      ]
     },
     "execution_count": 8,
     "metadata": {},
     "output_type": "execute_result"
    }
   ],
   "source": [
    "label_mapping = {val:key for key,val in enumerate(annot_df.label.unique())}  # class to endoded value mapping\n",
    "annot_df['new_label'] = annot_df.label.apply(lambda x: label_mapping[x])\n",
    "annot_df.head()"
   ]
  },
  {
   "cell_type": "code",
   "execution_count": 9,
   "metadata": {
    "executionInfo": {
     "elapsed": 773,
     "status": "ok",
     "timestamp": 1642318180936,
     "user": {
      "displayName": "Gaurav Kumar",
      "photoUrl": "https://lh3.googleusercontent.com/a/default-user=s64",
      "userId": "04629247398058989618"
     },
     "user_tz": 0
    },
    "id": "84ObqhGltPX6"
   },
   "outputs": [],
   "source": [
    "# Splits the data based on counts of cards in each label\n",
    "train_df, test_df, val_df = pd.DataFrame(),pd.DataFrame(),pd.DataFrame()\n",
    "for i in classes:\n",
    "  tmp_df = annot_df[annot_df.label==i].sample(frac=1).reset_index(drop=True) # Shuffles the prior test-val-train split\n",
    "  if len(tmp_df) == 1: # condition one - labels with just one card are kept to training dataset\n",
    "    train_df = train_df.append(tmp_df)\n",
    "  elif len(tmp_df) == 2: # codition two - if it has two cards, keeps one in train and the other in val\n",
    "    train_df = train_df.append(tmp_df[tmp_df.index==0])\n",
    "    val_df = val_df.append(tmp_df[tmp_df.index==1])\n",
    "  elif len(tmp_df) == 3:\n",
    "    train_df = train_df.append(tmp_df[tmp_df.index==0])\n",
    "    val_df = val_df.append(tmp_df[tmp_df.index==1])\n",
    "    test_df = test_df.append(tmp_df[tmp_df.index==2])\n",
    "  else: # if greater than 3, then do a split of 80-10-10 in train-val-test\n",
    "    for i,row in tmp_df.iterrows(): \n",
    "      if i<= int(0.8*len(tmp_df)):\n",
    "        train_df = train_df.append(tmp_df[tmp_df.index==i])\n",
    "      elif i>int(0.8*len(tmp_df)) and i <= int(0.9*len(tmp_df)):\n",
    "        val_df = val_df.append(tmp_df[tmp_df.index==i])\n",
    "      else:\n",
    "        test_df = test_df.append(tmp_df[tmp_df.index==i])\n"
   ]
  },
  {
   "cell_type": "code",
   "execution_count": 10,
   "metadata": {
    "executionInfo": {
     "elapsed": 209,
     "status": "ok",
     "timestamp": 1642318184771,
     "user": {
      "displayName": "Gaurav Kumar",
      "photoUrl": "https://lh3.googleusercontent.com/a/default-user=s64",
      "userId": "04629247398058989618"
     },
     "user_tz": 0
    },
    "id": "Dez6Osn8vkNy"
   },
   "outputs": [],
   "source": [
    "# As in above logic more priority was given to val over test. so resplitting the test and val in 50-50\n",
    "val_test_df = val_df.append(test_df).sample(frac=1).reset_index(drop=True)\n",
    "val_df = val_test_df[val_test_df.index<=int(len(val_test_df)*0.5)]\n",
    "test_df = val_test_df[val_test_df.index>int(len(val_test_df)*0.5)]"
   ]
  },
  {
   "cell_type": "code",
   "execution_count": 11,
   "metadata": {
    "colab": {
     "base_uri": "https://localhost:8080/"
    },
    "executionInfo": {
     "elapsed": 3,
     "status": "ok",
     "timestamp": 1642318185790,
     "user": {
      "displayName": "Gaurav Kumar",
      "photoUrl": "https://lh3.googleusercontent.com/a/default-user=s64",
      "userId": "04629247398058989618"
     },
     "user_tz": 0
    },
    "id": "u0ZnejolvmVp",
    "outputId": "07c92798-d3dc-45aa-8c8f-49bedadc6630"
   },
   "outputs": [
    {
     "data": {
      "text/plain": [
       "(238, 36, 35)"
      ]
     },
     "execution_count": 11,
     "metadata": {},
     "output_type": "execute_result"
    }
   ],
   "source": [
    "len(train_df),len(val_df),len(test_df) # this looks good"
   ]
  },
  {
   "cell_type": "code",
   "execution_count": 12,
   "metadata": {
    "executionInfo": {
     "elapsed": 1198,
     "status": "ok",
     "timestamp": 1642318188035,
     "user": {
      "displayName": "Gaurav Kumar",
      "photoUrl": "https://lh3.googleusercontent.com/a/default-user=s64",
      "userId": "04629247398058989618"
     },
     "user_tz": 0
    },
    "id": "NDBTN1aEvo_d"
   },
   "outputs": [],
   "source": [
    "# replicating the cards in train dataset to the cards with lesser counts, \n",
    "# to have all the labels with equal number of cards\n",
    "# could have done above while replitting but didn't want to keep duplicates in test and val\n",
    "train_df = train_df.reset_index(drop=True)\n",
    "train_aug_df = pd.DataFrame()\n",
    "max_items = max(train_df.label.value_counts())\n",
    "for i in classes:\n",
    "  tmp_df = train_df[train_df.label==i].sample(frac=1).reset_index(drop=True)\n",
    "  req_aug = max_items - len(tmp_df)\n",
    "  new_tmp_df = tmp_df.copy()\n",
    "  if req_aug > 0:\n",
    "    for j in range(15):\n",
    "      new_tmp_df = new_tmp_df.append(tmp_df)  \n",
    "      if len(new_tmp_df)>=max_items:\n",
    "        new_tmp_df = new_tmp_df.sample(frac=1).reset_index(drop=True).head(max_items)\n",
    "        # print(len(new_tmp_df))\n",
    "        break;\n",
    "  \n",
    "  train_aug_df = train_aug_df.append(new_tmp_df)\n",
    "\n",
    "#train_aug_df.label.value_counts()  "
   ]
  },
  {
   "cell_type": "code",
   "execution_count": 13,
   "metadata": {
    "executionInfo": {
     "elapsed": 72237,
     "status": "ok",
     "timestamp": 1642318263771,
     "user": {
      "displayName": "Gaurav Kumar",
      "photoUrl": "https://lh3.googleusercontent.com/a/default-user=s64",
      "userId": "04629247398058989618"
     },
     "user_tz": 0
    },
    "id": "AvjXcCUatPOK"
   },
   "outputs": [],
   "source": [
    "# to copy the images from prior created folders in task 1,2 to new folders based on above split logic\n",
    "#-- TRAIN -- \n",
    "train_aug_df = train_aug_df.reset_index(drop=True)\n",
    "\n",
    "train_annot = []\n",
    "for i,row in train_aug_df.iterrows():\n",
    "  img_name = f\"{i}_{row['img']}\"\n",
    "  shutil.copyfile(f\"{results_dir}{row['data']}/{row['label']}/{row['img']}\",\n",
    "                  f\"{results_dir}train_new/{img_name}\"\n",
    "                  )\n",
    "  train_annot.append([img_name,row['new_label']])\n",
    "#-- TEST -- \n",
    "for i,row in test_df.iterrows():\n",
    "  img_name = f\"{row['img']}\"\n",
    "  shutil.copyfile(f\"{results_dir}{row['data']}/{row['label']}/{row['img']}\",\n",
    "                  f\"{results_dir}test_new/{img_name}\"\n",
    "                  )\n",
    "#-- VAL --   \n",
    "for i,row in val_df.iterrows():\n",
    "  img_name = f\"{row['img']}\"\n",
    "  shutil.copyfile(f\"{results_dir}{row['data']}/{row['label']}/{row['img']}\",\n",
    "                  f\"{results_dir}/val_new/{img_name}\"\n",
    "                  )"
   ]
  },
  {
   "cell_type": "code",
   "execution_count": 14,
   "metadata": {
    "executionInfo": {
     "elapsed": 617,
     "status": "ok",
     "timestamp": 1642318281396,
     "user": {
      "displayName": "Gaurav Kumar",
      "photoUrl": "https://lh3.googleusercontent.com/a/default-user=s64",
      "userId": "04629247398058989618"
     },
     "user_tz": 0
    },
    "id": "-sheWc-5tPLE"
   },
   "outputs": [],
   "source": [
    "# training annotation file with image and encoded label mapping\n",
    "pd.DataFrame(train_annot,columns=['img','new_label']).to_csv(f\"{results_dir}train_annot.csv\",index=False)\n",
    "# VAl and TEST annotation file with image and encoded label mapping\n",
    "test_df[['img','new_label']].to_csv(f\"{results_dir}test_annot.csv\",index=False)\n",
    "val_df[['img','new_label']].to_csv(f\"{results_dir}val_annot.csv\",index=False)"
   ]
  },
  {
   "cell_type": "code",
   "execution_count": 15,
   "metadata": {
    "colab": {
     "base_uri": "https://localhost:8080/"
    },
    "executionInfo": {
     "elapsed": 198,
     "status": "ok",
     "timestamp": 1642318284517,
     "user": {
      "displayName": "Gaurav Kumar",
      "photoUrl": "https://lh3.googleusercontent.com/a/default-user=s64",
      "userId": "04629247398058989618"
     },
     "user_tz": 0
    },
    "id": "8eT7THXqtPEi",
    "outputId": "ade5af74-822d-4d01-9d5b-48edea8314c7"
   },
   "outputs": [
    {
     "data": {
      "text/plain": [
       "(1352, 35, 36)"
      ]
     },
     "execution_count": 15,
     "metadata": {},
     "output_type": "execute_result"
    }
   ],
   "source": [
    "(len(glob.glob(f\"{results_dir}train_new/*\")),\n",
    "len(glob.glob(f\"{results_dir}test_new/*\")),\n",
    "len(glob.glob(f\"{results_dir}/val_new/*\")))"
   ]
  },
  {
   "cell_type": "markdown",
   "metadata": {
    "id": "D0rSMBWX3WQ0"
   },
   "source": [
    "#Dataloader\n",
    "\n",
    "brings all the train test and val datasets in dataloader format"
   ]
  },
  {
   "cell_type": "code",
   "execution_count": 16,
   "metadata": {
    "execution": {
     "iopub.execute_input": "2022-01-12T04:35:33.946938Z",
     "iopub.status.busy": "2022-01-12T04:35:33.946665Z",
     "iopub.status.idle": "2022-01-12T04:35:33.956319Z",
     "shell.execute_reply": "2022-01-12T04:35:33.955430Z",
     "shell.execute_reply.started": "2022-01-12T04:35:33.946903Z"
    },
    "executionInfo": {
     "elapsed": 206,
     "status": "ok",
     "timestamp": 1642318290677,
     "user": {
      "displayName": "Gaurav Kumar",
      "photoUrl": "https://lh3.googleusercontent.com/a/default-user=s64",
      "userId": "04629247398058989618"
     },
     "user_tz": 0
    },
    "id": "4ZuXKSxT8ohL"
   },
   "outputs": [],
   "source": [
    "# A class to transform/augment the cards and bring datasets in dataloader format\n",
    "class CustomImageDataset(Dataset):\n",
    "    def __init__(self, annotations_file, img_dir, transform=None, target_transform=None):\n",
    "        self.img_labels = pd.read_csv(annotations_file)\n",
    "        self.img_dir = img_dir\n",
    "        self.transform = transform\n",
    "        self.target_transform = target_transform\n",
    "\n",
    "    def __len__(self):\n",
    "        return len(self.img_labels)\n",
    "\n",
    "    def __getitem__(self, idx):\n",
    "        img_path = os.path.join(self.img_dir, self.img_labels.iloc[idx, 0])\n",
    "        image = read_image(img_path)\n",
    "        label = self.img_labels.iloc[idx, 1]\n",
    "        if self.transform:\n",
    "            image = self.transform(image)\n",
    "        if self.target_transform:\n",
    "            label = self.target_transform(label)\n",
    "        return image, label"
   ]
  },
  {
   "cell_type": "code",
   "execution_count": 17,
   "metadata": {
    "execution": {
     "iopub.execute_input": "2022-01-12T04:37:42.998263Z",
     "iopub.status.busy": "2022-01-12T04:37:42.997702Z",
     "iopub.status.idle": "2022-01-12T04:37:43.028161Z",
     "shell.execute_reply": "2022-01-12T04:37:43.027434Z",
     "shell.execute_reply.started": "2022-01-12T04:37:42.998225Z"
    },
    "executionInfo": {
     "elapsed": 1606,
     "status": "ok",
     "timestamp": 1642318293310,
     "user": {
      "displayName": "Gaurav Kumar",
      "photoUrl": "https://lh3.googleusercontent.com/a/default-user=s64",
      "userId": "04629247398058989618"
     },
     "user_tz": 0
    },
    "id": "gW_tCvTv8ohM"
   },
   "outputs": [],
   "source": [
    "# Used annotation files and new train-test-val data repository to bring datasets in dataloader format \n",
    "\n",
    "\n",
    "training_data = CustomImageDataset(\n",
    "                  img_dir=f\"{results_dir}train_new\",\n",
    "                  annotations_file = f\"{results_dir}train_annot.csv\",\n",
    "                  transform=transforms.Compose([transforms.ToPILImage(), # trasformations on the images to enrich the training images\n",
    "                                                transforms.Resize((224,224)), \n",
    "                                                #transforms.RandomPerspective(distortion_scale=0.6, p=1.0),\n",
    "                                                #transforms.RandomRotation(degrees=(0, 180)),\n",
    "                                                transforms.ToTensor(),\n",
    "                                                transforms.Normalize((0.5, 0.5, 0.5), (0.5, 0.5, 0.5))])\n",
    "                )\n",
    "\n",
    "val_data = CustomImageDataset(\n",
    "    img_dir=f\"{results_dir}val_new\",\n",
    "    annotations_file = f\"{results_dir}val_annot.csv\",\n",
    "    transform=transforms.Compose([transforms.ToPILImage(),\n",
    "                                  transforms.Resize((224,224)), \n",
    "                                  transforms.ToTensor(),\n",
    "                                  transforms.Normalize((0.5, 0.5, 0.5), (0.5, 0.5, 0.5))])\n",
    ")\n",
    "\n",
    "\n",
    "test_data = CustomImageDataset(\n",
    "    img_dir=f\"{results_dir}test_new\",\n",
    "    annotations_file = f\"{results_dir}/test_annot.csv\",\n",
    "    transform=transforms.Compose([transforms.ToPILImage(),\n",
    "                                  transforms.Resize((224,224)), \n",
    "                                  transforms.ToTensor(),\n",
    "                                  transforms.Normalize((0.5, 0.5, 0.5), (0.5, 0.5, 0.5))])\n",
    ")"
   ]
  },
  {
   "cell_type": "code",
   "execution_count": 18,
   "metadata": {
    "executionInfo": {
     "elapsed": 197,
     "status": "ok",
     "timestamp": 1642318296756,
     "user": {
      "displayName": "Gaurav Kumar",
      "photoUrl": "https://lh3.googleusercontent.com/a/default-user=s64",
      "userId": "04629247398058989618"
     },
     "user_tz": 0
    },
    "id": "qGgqPyoH5VsD"
   },
   "outputs": [],
   "source": [
    "\n",
    "train_dataloader = DataLoader(training_data, batch_size=16, shuffle=True)\n",
    "val_dataloader = DataLoader(val_data, batch_size=8, shuffle=True)\n",
    "test_dataloader = DataLoader(test_data, batch_size=8, shuffle=True)"
   ]
  },
  {
   "cell_type": "code",
   "execution_count": 20,
   "metadata": {
    "colab": {
     "base_uri": "https://localhost:8080/",
     "height": 103
    },
    "execution": {
     "iopub.execute_input": "2022-01-12T05:46:06.969571Z",
     "iopub.status.busy": "2022-01-12T05:46:06.969307Z",
     "iopub.status.idle": "2022-01-12T05:46:06.997553Z",
     "shell.execute_reply": "2022-01-12T05:46:06.996700Z",
     "shell.execute_reply.started": "2022-01-12T05:46:06.969542Z"
    },
    "executionInfo": {
     "elapsed": 790,
     "status": "ok",
     "timestamp": 1642318323341,
     "user": {
      "displayName": "Gaurav Kumar",
      "photoUrl": "https://lh3.googleusercontent.com/a/default-user=s64",
      "userId": "04629247398058989618"
     },
     "user_tz": 0
    },
    "id": "8HA2w0KE8ohX",
    "outputId": "9bf8434b-fdd4-465f-8211-d2b47b974310"
   },
   "outputs": [
    {
     "data": {
      "image/png": "[encoded data removed]",
      "text/plain": [
       "<Figure size 576x720 with 1 Axes>"
      ]
     },
     "metadata": {
      "needs_background": "light"
     },
     "output_type": "display_data"
    }
   ],
   "source": [
    "batch_size = 8\n",
    "def imshow1(img, title):\n",
    "    npimg = img.numpy() / 2 + 0.5 # undo the normallized image\n",
    "    plt.figure(figsize=(batch_size,10)) # \n",
    "    plt.axis('off')\n",
    "    plt.imshow(np.transpose(npimg, (1, 2, 0))) # transposes image to its x,y,channel dimensions\n",
    "    plt.title(title) \n",
    "    plt.show()\n",
    "\n",
    "images, labels = next(iter(test_dataloader)) # gets images and labels apart\n",
    "img = torchvision.utils.make_grid(images) # make a grid view of all the images in the batch\n",
    "imshow1(img, title=[str(x.item()) for x in labels])"
   ]
  },
  {
   "cell_type": "markdown",
   "metadata": {
    "id": "efk96veo5kic"
   },
   "source": [
    "# Model import and training\n",
    "Used resnet50\n",
    "\n",
    "Initiallizes loss function and Ompitimizer"
   ]
  },
  {
   "cell_type": "code",
   "execution_count": 21,
   "metadata": {
    "colab": {
     "base_uri": "https://localhost:8080/",
     "height": 66,
     "referenced_widgets": [
      "2869710863f2409fbc5a84db4b069895",
      "99d66fe2b2f04aec8b67a0d78273510d",
      "25736b20912544b5b61d7296d8eee311",
      "bfb4019dbf5a4845b4ad837c5bf1354b",
      "e529ccdef14c4a51a72b8e201e269208",
      "67ac9d5a80e445d0827d2b5a87cd56e5",
      "67bba808cf264bbb881f5fa8356e4c3a",
      "6f9576f14dd047ceab84e8763eb483e8",
      "45db2ea3f8c34940bca5a5bcdb1ac8da",
      "4c4a34206fcd4cefa4fb12698f21abc9",
      "4b29080f83624370a96902a4c439c6cd"
     ]
    },
    "executionInfo": {
     "elapsed": 5437,
     "status": "ok",
     "timestamp": 1642318337415,
     "user": {
      "displayName": "Gaurav Kumar",
      "photoUrl": "https://lh3.googleusercontent.com/a/default-user=s64",
      "userId": "04629247398058989618"
     },
     "user_tz": 0
    },
    "id": "Ckn2Ua9PMtXR",
    "outputId": "71715203-b0f7-4b95-89ca-da140b10fc0b"
   },
   "outputs": [
    {
     "name": "stderr",
     "output_type": "stream",
     "text": [
      "Downloading: \"https://download.pytorch.org/models/resnet50-0676ba61.pth\" to /root/.cache/torch/hub/checkpoints/resnet50-0676ba61.pth\n"
     ]
    },
    {
     "data": {
      "application/vnd.jupyter.widget-view+json": {
       "model_id": "2869710863f2409fbc5a84db4b069895",
       "version_major": 2,
       "version_minor": 0
      },
      "text/plain": [
       "  0%|          | 0.00/97.8M [00:00<?, ?B/s]"
      ]
     },
     "metadata": {},
     "output_type": "display_data"
    }
   ],
   "source": [
    "# Importing Resnet Model\n",
    "resnet = models.resnet50(pretrained=True)"
   ]
  },
  {
   "cell_type": "code",
   "execution_count": 22,
   "metadata": {
    "colab": {
     "base_uri": "https://localhost:8080/"
    },
    "execution": {
     "iopub.execute_input": "2022-01-12T05:47:28.399020Z",
     "iopub.status.busy": "2022-01-12T05:47:28.398340Z",
     "iopub.status.idle": "2022-01-12T05:47:28.439282Z",
     "shell.execute_reply": "2022-01-12T05:47:28.438601Z",
     "shell.execute_reply.started": "2022-01-12T05:47:28.398982Z"
    },
    "executionInfo": {
     "elapsed": 205,
     "status": "ok",
     "timestamp": 1642318339713,
     "user": {
      "displayName": "Gaurav Kumar",
      "photoUrl": "https://lh3.googleusercontent.com/a/default-user=s64",
      "userId": "04629247398058989618"
     },
     "user_tz": 0
    },
    "id": "afV9FNMm8ohT",
    "outputId": "b8337b4e-7db1-48aa-d462-fef672bebd71"
   },
   "outputs": [
    {
     "name": "stdout",
     "output_type": "stream",
     "text": [
      "cpu\n"
     ]
    }
   ],
   "source": [
    "# GPU intiallisation\n",
    "device = torch.device(\"cuda:0\" if torch.cuda.is_available() else \"cpu\")\n",
    "print(device)\n",
    "# for param in resnet.parameters(): # freezing all the parmeters\n",
    "# param.requires_grad = False\n",
    "\n",
    "n_classes = len(classes)\n",
    "in_features = resnet.fc.in_features # updating the last layer to output the required dimension of labels\n",
    "resnet.fc = nn.Linear(in_features,n_classes)\n",
    "\n",
    "c = 0\n",
    "for child in resnet.children():\n",
    "  c += 1\n",
    "  if c <= 8:\n",
    "    for param in child.parameters():\n",
    "      param.requires_grad = False\n",
    "\n",
    "resnet = resnet.to(device)\n",
    "loss_fn = nn.CrossEntropyLoss()\n",
    "opt = optim.SGD(resnet.parameters(), lr=0.01) # Adam optimizer"
   ]
  },
  {
   "cell_type": "code",
   "execution_count": 23,
   "metadata": {
    "execution": {
     "iopub.execute_input": "2022-01-12T05:47:29.424210Z",
     "iopub.status.busy": "2022-01-12T05:47:29.422484Z",
     "iopub.status.idle": "2022-01-12T05:47:29.437436Z",
     "shell.execute_reply": "2022-01-12T05:47:29.436536Z",
     "shell.execute_reply.started": "2022-01-12T05:47:29.424164Z"
    },
    "executionInfo": {
     "elapsed": 197,
     "status": "ok",
     "timestamp": 1642318345340,
     "user": {
      "displayName": "Gaurav Kumar",
      "photoUrl": "https://lh3.googleusercontent.com/a/default-user=s64",
      "userId": "04629247398058989618"
     },
     "user_tz": 0
    },
    "id": "MCqkrf2v8ohU"
   },
   "outputs": [],
   "source": [
    "# evaluates the models performace and returns accuracy\n",
    "def evaluation(dataloader, model):\n",
    "    total, correct,data_loss = 0, 0,0\n",
    "    data_len = 0\n",
    "    for data in dataloader:\n",
    "        inputs, labels = data\n",
    "        inputs, labels = inputs.to(device), labels.to(device)\n",
    "        outputs = model(inputs)\n",
    "        _, pred = torch.max(outputs.data, 1) # similar to arg max\n",
    "        loss = loss_fn(outputs, pred)\n",
    "        data_len+= len(pred)\n",
    "        #print(labels,pred)\n",
    "        total += labels.size(0)\n",
    "        correct += (pred == labels).sum().item()\n",
    "        data_loss += loss.item()\n",
    "    return (100 * correct)/total, data_loss/data_len"
   ]
  },
  {
   "cell_type": "markdown",
   "metadata": {
    "id": "VlIRoiFJ8eHN"
   },
   "source": [
    "# Training the Model\n",
    "train the model to update the wieghts of last two layers and save the best fit in result directory. \n",
    "\n",
    "**Important Note** - The best fit model is found to be RESNET50, which has state dictionary size of 88 Mb post compressing. (shared along with notebooks)\n",
    "\n",
    "I have uploaded the same on one-drive and shared with both TAs and Dr. Abhir Bhalerao.\n",
    "\n",
    "link https://livewarwickac.sharepoint.com/:u:/s/IVAcoursework-2151556/ERiCIw3O2F9EtTxukFTdpTcB3mdqKLDcffgnqa2igu0TFQ?e=0qry8c\n",
    "\n",
    "OR, you can train the model for 30 epochs, should be done in less than 10 mins."
   ]
  },
  {
   "cell_type": "code",
   "execution_count": null,
   "metadata": {
    "execution": {
     "iopub.execute_input": "2022-01-12T05:47:39.148018Z",
     "iopub.status.busy": "2022-01-12T05:47:39.147487Z",
     "iopub.status.idle": "2022-01-12T06:53:01.183187Z",
     "shell.execute_reply": "2022-01-12T06:53:01.182416Z",
     "shell.execute_reply.started": "2022-01-12T05:47:39.147982Z"
    },
    "id": "t4Yyxelv8ohV"
   },
   "outputs": [],
   "source": [
    "# Training the Model\n",
    "import copy\n",
    "train_loss,val_loss = [],[]\n",
    "train_acc,val_acc = [],[]\n",
    "max_epochs = 100\n",
    "min_loss = 1000\n",
    "for epoch in range(max_epochs):\n",
    "    loss_train = 0\n",
    "    data_len = 0\n",
    "    for i, data in enumerate(train_dataloader, 0):\n",
    "\n",
    "        inputs, labels = data\n",
    "        inputs, labels = inputs.to(device), labels.to(device)\n",
    "#         print(labels)\n",
    "        opt.zero_grad()\n",
    "\n",
    "        outputs = resnet(inputs)\n",
    "        loss = loss_fn(outputs, labels)\n",
    "        loss.backward()\n",
    "        opt.step()\n",
    "        \n",
    "        if min_loss > loss.item(): # saves the best fit model\n",
    "          min_loss = loss.item()\n",
    "          best_model = copy.deepcopy(resnet.state_dict())\n",
    "\n",
    "        loss_train += loss.item()\n",
    "        data_len+= len(labels)\n",
    "        del inputs, labels, outputs\n",
    "        torch.cuda.empty_cache()\n",
    "        \n",
    "    val_metrices = evaluation(val_dataloader, resnet)\n",
    "    train_metrices = evaluation(train_dataloader, resnet)\n",
    "    \n",
    "    train_loss.append(loss_train/data_len)\n",
    "    val_loss.append(val_metrices[1])\n",
    "\n",
    "    # for i in test_dataloader:\n",
    "    #   inp, lbls = i\n",
    "    #   inp, lbls = inp.to(device), lbls.to(device)\n",
    "    #   out = resnet(inp)\n",
    "    #   _, prd = torch.max(out.data, 1)\n",
    "    #   print(lbls,prd)\n",
    "\n",
    "    \n",
    "    train_acc.append(train_metrices[0])   \n",
    "    val_acc.append(val_metrices[0])        \n",
    "    \n",
    "    print(f\"epoch:{epoch},train_acc:{train_acc[-1]},val_acc:{val_acc[-1]}\")\n",
    "    "
   ]
  },
  {
   "cell_type": "code",
   "execution_count": null,
   "metadata": {
    "id": "qzy-lV9i7TYt"
   },
   "outputs": [],
   "source": [
    "# save the best fit and the last epoch model\n",
    "torch.save(resnet.state_dict(),f\"{results_dir}resnet50_lr01_sgd.pt\")\n",
    "torch.save(best_model,f\"{results_dir}best_resnet50_lr01_sgd.pt\")"
   ]
  },
  {
   "cell_type": "markdown",
   "metadata": {
    "id": "iMrQQtZzK_9X"
   },
   "source": [
    "**Uncomment the command below** to import the state dict of the model shared on One-drive. \n",
    "\n",
    "Update the path as per the file location\n"
   ]
  },
  {
   "cell_type": "code",
   "execution_count": null,
   "metadata": {
    "colab": {
     "base_uri": "https://localhost:8080/"
    },
    "executionInfo": {
     "elapsed": 669,
     "status": "ok",
     "timestamp": 1642134617033,
     "user": {
      "displayName": "Gaurav Kumar",
      "photoUrl": "https://lh3.googleusercontent.com/a/default-user=s64",
      "userId": "04629247398058989618"
     },
     "user_tz": 0
    },
    "id": "dty-skJt7NYF",
    "outputId": "f263da75-ba76-473b-c3fe-90d4a37466e6"
   },
   "outputs": [
    {
     "data": {
      "text/plain": [
       "(88.57142857142857, 0.020109171074415955)"
      ]
     },
     "execution_count": 56,
     "metadata": {},
     "output_type": "execute_result"
    }
   ],
   "source": [
    "# evaluation on test data\n",
    "#resnet.load_state_dict(torch.load(f\"{results_dir}best_resnet50_lr01_sgd.pt\",map_location=torch.device('cpu')))\n",
    "resnet.eval()\n",
    "evaluation(test_dataloader,resnet)"
   ]
  },
  {
   "cell_type": "code",
   "execution_count": null,
   "metadata": {
    "colab": {
     "base_uri": "https://localhost:8080/",
     "height": 265
    },
    "execution": {
     "iopub.execute_input": "2022-01-12T16:35:44.751571Z",
     "iopub.status.busy": "2022-01-12T16:35:44.751298Z",
     "iopub.status.idle": "2022-01-12T16:35:44.831073Z",
     "shell.execute_reply": "2022-01-12T16:35:44.830032Z",
     "shell.execute_reply.started": "2022-01-12T16:35:44.751495Z"
    },
    "executionInfo": {
     "elapsed": 986,
     "status": "ok",
     "timestamp": 1642221501730,
     "user": {
      "displayName": "Gaurav Kumar",
      "photoUrl": "https://lh3.googleusercontent.com/a/default-user=s64",
      "userId": "04629247398058989618"
     },
     "user_tz": 0
    },
    "id": "j7B93fcK8ohW",
    "outputId": "4a9283dc-6d6b-4867-be2c-45dc8ef0346f"
   },
   "outputs": [
    {
     "data": {
      "image/png": "[encoded data removed]",
      "text/plain": [
       "<Figure size 432x288 with 1 Axes>"
      ]
     },
     "metadata": {
      "needs_background": "light"
     },
     "output_type": "display_data"
    }
   ],
   "source": [
    "plt.plot(train_loss)\n",
    "plt.plot(val_loss)\n",
    "plt.legend(['train','val'])\n",
    "plt.savefig(f\"{results_dir}resnet50_lr01_sgd_loss.jpg\")"
   ]
  },
  {
   "cell_type": "code",
   "execution_count": 45,
   "metadata": {
    "colab": {
     "base_uri": "https://localhost:8080/",
     "height": 265
    },
    "execution": {
     "iopub.status.busy": "2022-01-12T16:35:44.832063Z",
     "iopub.status.idle": "2022-01-12T16:35:44.833534Z",
     "shell.execute_reply": "2022-01-12T16:35:44.833303Z",
     "shell.execute_reply.started": "2022-01-12T16:35:44.833275Z"
    },
    "executionInfo": {
     "elapsed": 530,
     "status": "ok",
     "timestamp": 1642310412555,
     "user": {
      "displayName": "Gaurav Kumar",
      "photoUrl": "https://lh3.googleusercontent.com/a/default-user=s64",
      "userId": "04629247398058989618"
     },
     "user_tz": 0
    },
    "id": "t19FRMmk8ohX",
    "outputId": "e54e714e-699c-4f8b-e624-f4d1bcc9d619"
   },
   "outputs": [
    {
     "data": {
      "image/png": "[encoded data removed]",
      "text/plain": [
       "<Figure size 432x288 with 1 Axes>"
      ]
     },
     "metadata": {
      "needs_background": "light"
     },
     "output_type": "display_data"
    }
   ],
   "source": [
    "plt.plot(train_acc)\n",
    "plt.plot(val_acc)\n",
    "\n",
    "plt.legend(['train','val'])\n",
    "plt.savefig(f\"{results_dir}resnet50_lr01_sgd_acc.jpg\")"
   ]
  },
  {
   "cell_type": "code",
   "execution_count": null,
   "metadata": {
    "id": "oZsObkKBJ1w6"
   },
   "outputs": [],
   "source": []
  }
 ],
 "metadata": {
  "accelerator": "GPU",
  "colab": {
   "collapsed_sections": [],
   "name": "task-3.ipynb",
   "provenance": []
  },
  "kernelspec": {
   "display_name": "Python 3",
   "language": "python",
   "name": "python3"
  },
  "language_info": {
   "codemirror_mode": {
    "name": "ipython",
    "version": 3
   },
   "file_extension": ".py",
   "mimetype": "text/x-python",
   "name": "python",
   "nbconvert_exporter": "python",
   "pygments_lexer": "ipython3",
   "version": "3.8.5"
  },
  "widgets": {
   "application/vnd.jupyter.widget-state+json": {
    "25736b20912544b5b61d7296d8eee311": {
     "model_module": "@jupyter-widgets/controls",
     "model_module_version": "1.5.0",
     "model_name": "HTMLModel",
     "state": {
      "_dom_classes": [],
      "_model_module": "@jupyter-widgets/controls",
      "_model_module_version": "1.5.0",
      "_model_name": "HTMLModel",
      "_view_count": null,
      "_view_module": "@jupyter-widgets/controls",
      "_view_module_version": "1.5.0",
      "_view_name": "HTMLView",
      "description": "",
      "description_tooltip": null,
      "layout": "IPY_MODEL_67bba808cf264bbb881f5fa8356e4c3a",
      "placeholder": "​",
      "style": "IPY_MODEL_67ac9d5a80e445d0827d2b5a87cd56e5",
      "value": "100%"
     }
    },
    "2869710863f2409fbc5a84db4b069895": {
     "model_module": "@jupyter-widgets/controls",
     "model_module_version": "1.5.0",
     "model_name": "HBoxModel",
     "state": {
      "_dom_classes": [],
      "_model_module": "@jupyter-widgets/controls",
      "_model_module_version": "1.5.0",
      "_model_name": "HBoxModel",
      "_view_count": null,
      "_view_module": "@jupyter-widgets/controls",
      "_view_module_version": "1.5.0",
      "_view_name": "HBoxView",
      "box_style": "",
      "children": [
       "IPY_MODEL_25736b20912544b5b61d7296d8eee311",
       "IPY_MODEL_bfb4019dbf5a4845b4ad837c5bf1354b",
       "IPY_MODEL_e529ccdef14c4a51a72b8e201e269208"
      ],
      "layout": "IPY_MODEL_99d66fe2b2f04aec8b67a0d78273510d"
     }
    },
    "45db2ea3f8c34940bca5a5bcdb1ac8da": {
     "model_module": "@jupyter-widgets/base",
     "model_module_version": "1.2.0",
     "model_name": "LayoutModel",
     "state": {
      "_model_module": "@jupyter-widgets/base",
      "_model_module_version": "1.2.0",
      "_model_name": "LayoutModel",
      "_view_count": null,
      "_view_module": "@jupyter-widgets/base",
      "_view_module_version": "1.2.0",
      "_view_name": "LayoutView",
      "align_content": null,
      "align_items": null,
      "align_self": null,
      "border": null,
      "bottom": null,
      "display": null,
      "flex": null,
      "flex_flow": null,
      "grid_area": null,
      "grid_auto_columns": null,
      "grid_auto_flow": null,
      "grid_auto_rows": null,
      "grid_column": null,
      "grid_gap": null,
      "grid_row": null,
      "grid_template_areas": null,
      "grid_template_columns": null,
      "grid_template_rows": null,
      "height": null,
      "justify_content": null,
      "justify_items": null,
      "left": null,
      "margin": null,
      "max_height": null,
      "max_width": null,
      "min_height": null,
      "min_width": null,
      "object_fit": null,
      "object_position": null,
      "order": null,
      "overflow": null,
      "overflow_x": null,
      "overflow_y": null,
      "padding": null,
      "right": null,
      "top": null,
      "visibility": null,
      "width": null
     }
    },
    "4b29080f83624370a96902a4c439c6cd": {
     "model_module": "@jupyter-widgets/base",
     "model_module_version": "1.2.0",
     "model_name": "LayoutModel",
     "state": {
      "_model_module": "@jupyter-widgets/base",
      "_model_module_version": "1.2.0",
      "_model_name": "LayoutModel",
      "_view_count": null,
      "_view_module": "@jupyter-widgets/base",
      "_view_module_version": "1.2.0",
      "_view_name": "LayoutView",
      "align_content": null,
      "align_items": null,
      "align_self": null,
      "border": null,
      "bottom": null,
      "display": null,
      "flex": null,
      "flex_flow": null,
      "grid_area": null,
      "grid_auto_columns": null,
      "grid_auto_flow": null,
      "grid_auto_rows": null,
      "grid_column": null,
      "grid_gap": null,
      "grid_row": null,
      "grid_template_areas": null,
      "grid_template_columns": null,
      "grid_template_rows": null,
      "height": null,
      "justify_content": null,
      "justify_items": null,
      "left": null,
      "margin": null,
      "max_height": null,
      "max_width": null,
      "min_height": null,
      "min_width": null,
      "object_fit": null,
      "object_position": null,
      "order": null,
      "overflow": null,
      "overflow_x": null,
      "overflow_y": null,
      "padding": null,
      "right": null,
      "top": null,
      "visibility": null,
      "width": null
     }
    },
    "4c4a34206fcd4cefa4fb12698f21abc9": {
     "model_module": "@jupyter-widgets/controls",
     "model_module_version": "1.5.0",
     "model_name": "DescriptionStyleModel",
     "state": {
      "_model_module": "@jupyter-widgets/controls",
      "_model_module_version": "1.5.0",
      "_model_name": "DescriptionStyleModel",
      "_view_count": null,
      "_view_module": "@jupyter-widgets/base",
      "_view_module_version": "1.2.0",
      "_view_name": "StyleView",
      "description_width": ""
     }
    },
    "67ac9d5a80e445d0827d2b5a87cd56e5": {
     "model_module": "@jupyter-widgets/controls",
     "model_module_version": "1.5.0",
     "model_name": "DescriptionStyleModel",
     "state": {
      "_model_module": "@jupyter-widgets/controls",
      "_model_module_version": "1.5.0",
      "_model_name": "DescriptionStyleModel",
      "_view_count": null,
      "_view_module": "@jupyter-widgets/base",
      "_view_module_version": "1.2.0",
      "_view_name": "StyleView",
      "description_width": ""
     }
    },
    "67bba808cf264bbb881f5fa8356e4c3a": {
     "model_module": "@jupyter-widgets/base",
     "model_module_version": "1.2.0",
     "model_name": "LayoutModel",
     "state": {
      "_model_module": "@jupyter-widgets/base",
      "_model_module_version": "1.2.0",
      "_model_name": "LayoutModel",
      "_view_count": null,
      "_view_module": "@jupyter-widgets/base",
      "_view_module_version": "1.2.0",
      "_view_name": "LayoutView",
      "align_content": null,
      "align_items": null,
      "align_self": null,
      "border": null,
      "bottom": null,
      "display": null,
      "flex": null,
      "flex_flow": null,
      "grid_area": null,
      "grid_auto_columns": null,
      "grid_auto_flow": null,
      "grid_auto_rows": null,
      "grid_column": null,
      "grid_gap": null,
      "grid_row": null,
      "grid_template_areas": null,
      "grid_template_columns": null,
      "grid_template_rows": null,
      "height": null,
      "justify_content": null,
      "justify_items": null,
      "left": null,
      "margin": null,
      "max_height": null,
      "max_width": null,
      "min_height": null,
      "min_width": null,
      "object_fit": null,
      "object_position": null,
      "order": null,
      "overflow": null,
      "overflow_x": null,
      "overflow_y": null,
      "padding": null,
      "right": null,
      "top": null,
      "visibility": null,
      "width": null
     }
    },
    "6f9576f14dd047ceab84e8763eb483e8": {
     "model_module": "@jupyter-widgets/controls",
     "model_module_version": "1.5.0",
     "model_name": "ProgressStyleModel",
     "state": {
      "_model_module": "@jupyter-widgets/controls",
      "_model_module_version": "1.5.0",
      "_model_name": "ProgressStyleModel",
      "_view_count": null,
      "_view_module": "@jupyter-widgets/base",
      "_view_module_version": "1.2.0",
      "_view_name": "StyleView",
      "bar_color": null,
      "description_width": ""
     }
    },
    "99d66fe2b2f04aec8b67a0d78273510d": {
     "model_module": "@jupyter-widgets/base",
     "model_module_version": "1.2.0",
     "model_name": "LayoutModel",
     "state": {
      "_model_module": "@jupyter-widgets/base",
      "_model_module_version": "1.2.0",
      "_model_name": "LayoutModel",
      "_view_count": null,
      "_view_module": "@jupyter-widgets/base",
      "_view_module_version": "1.2.0",
      "_view_name": "LayoutView",
      "align_content": null,
      "align_items": null,
      "align_self": null,
      "border": null,
      "bottom": null,
      "display": null,
      "flex": null,
      "flex_flow": null,
      "grid_area": null,
      "grid_auto_columns": null,
      "grid_auto_flow": null,
      "grid_auto_rows": null,
      "grid_column": null,
      "grid_gap": null,
      "grid_row": null,
      "grid_template_areas": null,
      "grid_template_columns": null,
      "grid_template_rows": null,
      "height": null,
      "justify_content": null,
      "justify_items": null,
      "left": null,
      "margin": null,
      "max_height": null,
      "max_width": null,
      "min_height": null,
      "min_width": null,
      "object_fit": null,
      "object_position": null,
      "order": null,
      "overflow": null,
      "overflow_x": null,
      "overflow_y": null,
      "padding": null,
      "right": null,
      "top": null,
      "visibility": null,
      "width": null
     }
    },
    "bfb4019dbf5a4845b4ad837c5bf1354b": {
     "model_module": "@jupyter-widgets/controls",
     "model_module_version": "1.5.0",
     "model_name": "FloatProgressModel",
     "state": {
      "_dom_classes": [],
      "_model_module": "@jupyter-widgets/controls",
      "_model_module_version": "1.5.0",
      "_model_name": "FloatProgressModel",
      "_view_count": null,
      "_view_module": "@jupyter-widgets/controls",
      "_view_module_version": "1.5.0",
      "_view_name": "ProgressView",
      "bar_style": "success",
      "description": "",
      "description_tooltip": null,
      "layout": "IPY_MODEL_45db2ea3f8c34940bca5a5bcdb1ac8da",
      "max": 102530333,
      "min": 0,
      "orientation": "horizontal",
      "style": "IPY_MODEL_6f9576f14dd047ceab84e8763eb483e8",
      "value": 102530333
     }
    },
    "e529ccdef14c4a51a72b8e201e269208": {
     "model_module": "@jupyter-widgets/controls",
     "model_module_version": "1.5.0",
     "model_name": "HTMLModel",
     "state": {
      "_dom_classes": [],
      "_model_module": "@jupyter-widgets/controls",
      "_model_module_version": "1.5.0",
      "_model_name": "HTMLModel",
      "_view_count": null,
      "_view_module": "@jupyter-widgets/controls",
      "_view_module_version": "1.5.0",
      "_view_name": "HTMLView",
      "description": "",
      "description_tooltip": null,
      "layout": "IPY_MODEL_4b29080f83624370a96902a4c439c6cd",
      "placeholder": "​",
      "style": "IPY_MODEL_4c4a34206fcd4cefa4fb12698f21abc9",
      "value": " 97.8M/97.8M [00:04&lt;00:00, 23.5MB/s]"
     }
    }
   }
  }
 },
 "nbformat": 4,
 "nbformat_minor": 1
}
